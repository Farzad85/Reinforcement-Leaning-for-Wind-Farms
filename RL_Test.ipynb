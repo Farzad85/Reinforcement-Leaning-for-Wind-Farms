{
  "nbformat": 4,
  "nbformat_minor": 0,
  "metadata": {
    "colab": {
      "name": "RL-Test.ipynb",
      "provenance": [],
      "collapsed_sections": []
    },
    "kernelspec": {
      "name": "python3",
      "display_name": "Python 3"
    }
  },
  "cells": [
    {
      "cell_type": "markdown",
      "metadata": {
        "id": "E5U3HG76ysSK",
        "colab_type": "text"
      },
      "source": [
        "# Q-Learning for a Wind Turbine Yaw Alignment to Maximize Power Production\n",
        "\n",
        "This is a sample program for executing the Q-Learning algorithm to find the best nacelle angle in terms of power production.\n",
        "\n",
        "*   The wind direction and nacelle angle are states of the system and change in the nacelle angle is the action. The states and actions are discretized to adapt to q-Learning algorithm requirements.\n",
        "\n",
        "*   A simple model for the power production (reward) is adopted which returns the cosine of the difference between the actual wind direction and the nacelle angle. A fully random method is used for generating actions at each training step. \n",
        "\n",
        "*   The Q matrix is filled by the Q of the current state and action, estimation of the best Q for the next step, and the reward value. \n",
        "\n",
        "*   In the training phase, the Q matrix is filled in a loop through random sampling of the states and action.\n",
        "\n",
        "*   For the test, the process starts with a desired initial state, and then the actions are chosen based on the corresponding largest Q value. \n",
        "\n"
      ]
    },
    {
      "cell_type": "code",
      "metadata": {
        "id": "q_N_kRMVPdqe",
        "colab_type": "code",
        "colab": {
          "base_uri": "https://localhost:8080/",
          "height": 390
        },
        "outputId": "79b23aa4-85fb-4107-b8eb-2d467ef882f6"
      },
      "source": [
        "import numpy as np\n",
        "import pandas as pd\n",
        "import itertools\n",
        "import matplotlib.pyplot as plt\n",
        "from matplotlib.ticker import MaxNLocator\n",
        "import matplotlib\n",
        "from tqdm import tqdm \n",
        "\n",
        "# States Definition\n",
        "wind_dir = np.linspace(-90,80,18)\n",
        "Nacelle_ang = np.linspace(-90,80,18)\n",
        "\n",
        "# Action Definition\n",
        "actions = np.array([-10,0,+10])\n",
        "\n",
        "# R matrix\n",
        "A = np.array(list(itertools.product(wind_dir, Nacelle_ang,actions)))\n",
        "table = pd.DataFrame({'wind_dir': A[:,0],'Nacelle_ang': A[:,1], 'action': A[:,2]})\n",
        "\n",
        "#Removing Infeasible Action-State Rows\n",
        "table.drop(table[(table['wind_dir'] - table['Nacelle_ang'] == -90) & (table['action'] == 10)].index, inplace = True)\n",
        "table.drop(table[(table['wind_dir'] - table['Nacelle_ang'] ==  90) & (table['action'] == -10)].index, inplace = True)\n",
        "\n",
        "# Reward Function Generation\n",
        "def rewardFunc(row):\n",
        "    return np.cos((row['wind_dir'] - (row['Nacelle_ang'] + row['action']))*np.pi/180)\n",
        "\n",
        "# Function to Move to the Next State by the Input Action\n",
        "def statePropagation(state, action):\n",
        "    return(state[0] , state[1] + action)\n",
        "\n",
        "# Reward Table    \n",
        "table['reward'] = table.apply(lambda row: rewardFunc(row), axis = 1)\n",
        "R_table = pd.pivot_table(table, values='reward', index=['wind_dir' , 'Nacelle_ang'],\n",
        "                    columns=['action'], aggfunc=np.sum)\n",
        "\n",
        "# Q matrix\n",
        "Q = pd.DataFrame(0, index = R_table.index, columns = R_table.columns)\n",
        "\n",
        "# Gamma and Alpha (learning parameter).\n",
        "gamma = 0.4\n",
        "alpha = 0.9\n",
        "\n",
        "# Function to Identify Possible Actions\n",
        "def available_actions(state):\n",
        "    current_state_row = R_table.loc[state]\n",
        "    av_act = ~np.isnan(current_state_row.values)\n",
        "    av_act = actions[av_act]\n",
        "    return av_act.astype(int)\n",
        "\n",
        "# Training Loop to Fill the Q Matrix\n",
        "for i in tqdm(range(20000)):\n",
        "    current_state = np.random.choice(R_table.index,1, replace = False)\n",
        "    available_act = available_actions(current_state[0])\n",
        "    action = np.random.choice(available_act)\n",
        "    next_state = statePropagation(current_state[0] ,action)\n",
        "    Q_next_max = np.max(Q.loc[current_state].values)\n",
        "    Q.loc[current_state, action] = Q.loc[current_state, action] + alpha * (R_table.loc[current_state,action] + gamma * Q_next_max - Q.loc[current_state, action])\n",
        "    \n",
        "Q.head(10)"
      ],
      "execution_count": 3,
      "outputs": [
        {
          "output_type": "execute_result",
          "data": {
            "text/html": [
              "<div>\n",
              "<style scoped>\n",
              "    .dataframe tbody tr th:only-of-type {\n",
              "        vertical-align: middle;\n",
              "    }\n",
              "\n",
              "    .dataframe tbody tr th {\n",
              "        vertical-align: top;\n",
              "    }\n",
              "\n",
              "    .dataframe thead th {\n",
              "        text-align: right;\n",
              "    }\n",
              "</style>\n",
              "<table border=\"1\" class=\"dataframe\">\n",
              "  <thead>\n",
              "    <tr style=\"text-align: right;\">\n",
              "      <th></th>\n",
              "      <th>action</th>\n",
              "      <th>-10.0</th>\n",
              "      <th>0.0</th>\n",
              "      <th>10.0</th>\n",
              "    </tr>\n",
              "    <tr>\n",
              "      <th>wind_dir</th>\n",
              "      <th>Nacelle_ang</th>\n",
              "      <th></th>\n",
              "      <th></th>\n",
              "      <th></th>\n",
              "    </tr>\n",
              "  </thead>\n",
              "  <tbody>\n",
              "    <tr>\n",
              "      <th rowspan=\"10\" valign=\"top\">-90.0</th>\n",
              "      <th>-90.0</th>\n",
              "      <td>1.651474</td>\n",
              "      <td>1.666667</td>\n",
              "      <td>1.651474</td>\n",
              "    </tr>\n",
              "    <tr>\n",
              "      <th>-80.0</th>\n",
              "      <td>1.666667</td>\n",
              "      <td>1.651474</td>\n",
              "      <td>1.606359</td>\n",
              "    </tr>\n",
              "    <tr>\n",
              "      <th>-70.0</th>\n",
              "      <td>1.641345</td>\n",
              "      <td>1.596230</td>\n",
              "      <td>1.522561</td>\n",
              "    </tr>\n",
              "    <tr>\n",
              "      <th>-60.0</th>\n",
              "      <td>1.566154</td>\n",
              "      <td>1.492487</td>\n",
              "      <td>1.392506</td>\n",
              "    </tr>\n",
              "    <tr>\n",
              "      <th>-50.0</th>\n",
              "      <td>1.443375</td>\n",
              "      <td>1.343395</td>\n",
              "      <td>1.220138</td>\n",
              "    </tr>\n",
              "    <tr>\n",
              "      <th>-40.0</th>\n",
              "      <td>1.276741</td>\n",
              "      <td>1.153484</td>\n",
              "      <td>1.010696</td>\n",
              "    </tr>\n",
              "    <tr>\n",
              "      <th>-30.0</th>\n",
              "      <td>1.071313</td>\n",
              "      <td>0.928525</td>\n",
              "      <td>0.770544</td>\n",
              "    </tr>\n",
              "    <tr>\n",
              "      <th>-20.0</th>\n",
              "      <td>0.833333</td>\n",
              "      <td>0.675353</td>\n",
              "      <td>0.506982</td>\n",
              "    </tr>\n",
              "    <tr>\n",
              "      <th>-10.0</th>\n",
              "      <td>0.570034</td>\n",
              "      <td>0.401662</td>\n",
              "      <td>0.228013</td>\n",
              "    </tr>\n",
              "    <tr>\n",
              "      <th>0.0</th>\n",
              "      <td>0.289414</td>\n",
              "      <td>0.115765</td>\n",
              "      <td>0.000000</td>\n",
              "    </tr>\n",
              "  </tbody>\n",
              "</table>\n",
              "</div>"
            ],
            "text/plain": [
              "action                   -10.0      0.0       10.0\n",
              "wind_dir Nacelle_ang                              \n",
              "-90.0    -90.0        1.651474  1.666667  1.651474\n",
              "         -80.0        1.666667  1.651474  1.606359\n",
              "         -70.0        1.641345  1.596230  1.522561\n",
              "         -60.0        1.566154  1.492487  1.392506\n",
              "         -50.0        1.443375  1.343395  1.220138\n",
              "         -40.0        1.276741  1.153484  1.010696\n",
              "         -30.0        1.071313  0.928525  0.770544\n",
              "         -20.0        0.833333  0.675353  0.506982\n",
              "         -10.0        0.570034  0.401662  0.228013\n",
              "          0.0         0.289414  0.115765  0.000000"
            ]
          },
          "metadata": {
            "tags": []
          },
          "execution_count": 3
        }
      ]
    },
    {
      "cell_type": "code",
      "metadata": {
        "id": "OoCqQ0igfcOe",
        "colab_type": "code",
        "colab": {
          "base_uri": "https://localhost:8080/",
          "height": 102
        },
        "outputId": "ae9b1d8a-8670-4cbb-f88c-309a260449e2"
      },
      "source": [
        "# Initial State\n",
        "states = [(-90, 80)]\n",
        "\n",
        "# Determining the States and Action Sequence\n",
        "episodes = range(20)\n",
        "action_sequence = []\n",
        "for i in episodes:\n",
        "    next_step_index = np.where(Q.loc[states[-1]].values == np.max(Q.loc[states[-1]].values))[0]\n",
        "    if next_step_index.shape[0] > 1:\n",
        "        next_step_index = int(np.random.choice(next_step_index, size = 1))\n",
        "    else:\n",
        "        next_step_index = int(next_step_index)\n",
        "    av_act = actions[next_step_index]\n",
        "    next_state = statePropagation(states[-1],av_act)\n",
        "    states.append(next_state)\n",
        "    action_sequence.append(av_act)\n",
        "\n",
        "print('State Sequence:        ')\n",
        "print(states)\n",
        "print('\\nAction Sequence:        ')\n",
        "print(action_sequence)"
      ],
      "execution_count": 12,
      "outputs": [
        {
          "output_type": "stream",
          "text": [
            "State Sequence:        \n",
            "[(-90, 80), (-90, 70), (-90, 60), (-90, 50), (-90, 40), (-90, 30), (-90, 20), (-90, 10), (-90, 0), (-90, -10), (-90, -20), (-90, -30), (-90, -40), (-90, -50), (-90, -60), (-90, -70), (-90, -80), (-90, -90), (-90, -90), (-90, -90), (-90, -90)]\n",
            "\n",
            "Action Sequence:        \n",
            "[-10, -10, -10, -10, -10, -10, -10, -10, -10, -10, -10, -10, -10, -10, -10, -10, -10, 0, 0, 0]\n"
          ],
          "name": "stdout"
        }
      ]
    },
    {
      "cell_type": "code",
      "metadata": {
        "id": "HhY6hxKvfYSZ",
        "colab_type": "code",
        "colab": {
          "base_uri": "https://localhost:8080/",
          "height": 545
        },
        "outputId": "205606c2-e62c-4ee4-d12f-08ec59f3ca79"
      },
      "source": [
        "font = {'size'   : 16}\n",
        "matplotlib.rc('font', **font)\n",
        "\n",
        "fig, ax = plt.subplots(1,2, figsize = (30,8))\n",
        "ax[0].step(episodes, [s[0] - s[1] for s in states[:-1]])\n",
        "ax[0].yaxis.set_major_locator(MaxNLocator(integer=True))\n",
        "ax[0].set_title('Yaw Misalignment vs Steps')\n",
        "ax[0].set_xlabel('Episode Number')\n",
        "ax[0].set_ylabel('Yaw Misalignment (deg)')\n",
        "\n",
        "ax[1].step(episodes, action_sequence)\n",
        "ax[1].yaxis.set_major_locator(MaxNLocator(integer=True))\n",
        "ax[1].set_title('Actions vs Steps')\n",
        "ax[1].set_xlabel('Episode Number')\n",
        "ax[1].set_ylabel('Action (deg)')"
      ],
      "execution_count": 11,
      "outputs": [
        {
          "output_type": "execute_result",
          "data": {
            "text/plain": [
              "Text(0, 0.5, 'Action (deg)')"
            ]
          },
          "metadata": {
            "tags": []
          },
          "execution_count": 11
        },
        {
          "output_type": "display_data",
          "data": {
            "image/png": "[encoded data removed]",
            "text/plain": [
              "<Figure size 2160x576 with 2 Axes>"
            ]
          },
          "metadata": {
            "tags": [],
            "needs_background": "light"
          }
        }
      ]
    }
  ]
}